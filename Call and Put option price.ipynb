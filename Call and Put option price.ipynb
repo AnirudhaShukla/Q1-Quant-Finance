{
 "cells": [
  {
   "cell_type": "code",
   "execution_count": 2,
   "id": "0b2ede1c",
   "metadata": {},
   "outputs": [],
   "source": [
    "import numpy as np\n",
    "import pandas as pd\n",
    "from math import *\n",
    "from scipy.stats import *"
   ]
  },
  {
   "cell_type": "code",
   "execution_count": 3,
   "id": "cc06b47b",
   "metadata": {},
   "outputs": [],
   "source": [
    "def d1(S,K,T,r,sig):\n",
    "    D_1 = (log(S/K)+(r+sig**2/2.)*(T/12))/(sig*sqrt(T/12))\n",
    "    return D_1"
   ]
  },
  {
   "cell_type": "code",
   "execution_count": 4,
   "id": "5a847abd",
   "metadata": {},
   "outputs": [],
   "source": [
    "def d2(S,K,T,r,sig):\n",
    "    D_2 = (log(S/K)+(r-sig**2/2.)*(T/12))/(sig*sqrt(T/12))\n",
    "    return D_2"
   ]
  },
  {
   "cell_type": "code",
   "execution_count": 5,
   "id": "1a736907",
   "metadata": {},
   "outputs": [],
   "source": [
    "def call_option(S,K,T,r,sig):\n",
    "    C = S*norm.cdf(d1(S,K,T,r,sig))-K*exp(-r*(T/12))*norm.cdf(d2(S,K,T,r,sig))\n",
    "    return C"
   ]
  },
  {
   "cell_type": "code",
   "execution_count": 6,
   "id": "6a3a4d6d",
   "metadata": {},
   "outputs": [],
   "source": [
    "def put_option(S,K,T,r,sig):\n",
    "    P = K*exp(-r*(T/12))*norm.cdf(-d2(S,K,T,r,sig))-S*norm.cdf(-d1(S,K,T,r,sig))\n",
    "    return P"
   ]
  },
  {
   "cell_type": "code",
   "execution_count": 7,
   "id": "d77c4b68",
   "metadata": {},
   "outputs": [
    {
     "name": "stdout",
     "output_type": "stream",
     "text": [
      "option price is:  6.130051648864736\n"
     ]
    }
   ],
   "source": [
    "print(\"option price is: \",call_option(100,95,0.25,0.5,0.3))"
   ]
  },
  {
   "cell_type": "code",
   "execution_count": null,
   "id": "8abbca3a",
   "metadata": {},
   "outputs": [],
   "source": []
  }
 ],
 "metadata": {
  "kernelspec": {
   "display_name": "Python 3 (ipykernel)",
   "language": "python",
   "name": "python3"
  },
  "language_info": {
   "codemirror_mode": {
    "name": "ipython",
    "version": 3
   },
   "file_extension": ".py",
   "mimetype": "text/x-python",
   "name": "python",
   "nbconvert_exporter": "python",
   "pygments_lexer": "ipython3",
   "version": "3.9.7"
  }
 },
 "nbformat": 4,
 "nbformat_minor": 5
}
